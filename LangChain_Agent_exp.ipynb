{
 "cells": [
  {
   "cell_type": "markdown",
   "id": "0cc27c1f",
   "metadata": {},
   "source": [
    "### Objective\n",
    "\n",
    "Use langchain to create a bot that knows to call ML surrogate model to calculate motor loss"
   ]
  },
  {
   "cell_type": "markdown",
   "id": "de4ac5f9",
   "metadata": {},
   "source": [
    "#### 1. Preprocessing"
   ]
  },
  {
   "cell_type": "markdown",
   "id": "d4b959b6",
   "metadata": {},
   "source": [
    "##### 1.1 Loading packages"
   ]
  },
  {
   "cell_type": "code",
   "execution_count": 1,
   "id": "8931749e",
   "metadata": {},
   "outputs": [],
   "source": [
    "# import necessary packages \n",
    "from collections import defaultdict\n",
    "import numpy as np\n",
    "import sklearn.gaussian_process as gp\n",
    "from sklearn.ensemble import RandomForestRegressor\n",
    "import xgboost as xgb\n",
    "from sklearn.metrics import mean_squared_error, r2_score, mean_absolute_percentage_error\n",
    "from sklearn.neighbors import NearestNeighbors\n",
    "import matplotlib.pyplot as plt\n",
    "from mpl_toolkits.mplot3d import Axes3D\n",
    "import pandas as pd\n",
    "from pathlib import Path\n",
    "from scipy.stats import qmc\n",
    "import os\n",
    "import sys\n",
    "import utilities\n",
    "\n",
    "# Machine learning models\n",
    "from sklearn.linear_model import LinearRegression\n",
    "import sklearn.gaussian_process as gp\n",
    "from sklearn.preprocessing import StandardScaler, PolynomialFeatures, MinMaxScaler \n",
    "from sklearn.pipeline import Pipeline\n",
    "\n",
    "# Custom Gaussian Process model\n",
    "module_path = os.path.abspath(os.path.join('../'))\n",
    "if module_path not in sys.path:\n",
    "    sys.path.append(module_path+\"\\\\GaussianProcess\")\n",
    "from GPInterpolator import GPInterpolator\n",
    "\n",
    "np.set_printoptions(precision=4,suppress=True)"
   ]
  },
  {
   "cell_type": "markdown",
   "id": "d16224fa",
   "metadata": {},
   "source": [
    "##### 1.2 Loading data"
   ]
  },
  {
   "cell_type": "code",
   "execution_count": 2,
   "id": "4b92cadb",
   "metadata": {},
   "outputs": [
    {
     "name": "stdout",
     "output_type": "stream",
     "text": [
      "Available Psi_ref levels: [50, 70, 90, 100, 110]\n"
     ]
    }
   ],
   "source": [
    "# Load dataset\n",
    "normal_df = pd.read_csv('./full_grid_exploration/Camp_1/normal_op.csv')\n",
    "FW_df = pd.read_csv('./full_grid_exploration/Camp_1/field_weakening_op.csv')\n",
    "ops_dict = {\n",
    "    'normal-op': normal_df,\n",
    "    'field-weakening': FW_df\n",
    "}\n",
    "total_psi_levels = normal_df.psi_ref.unique().tolist()\n",
    "print(f\"Available Psi_ref levels: {total_psi_levels}\")"
   ]
  },
  {
   "cell_type": "markdown",
   "id": "70042fef",
   "metadata": {},
   "source": [
    "#### 2. ML analysis"
   ]
  },
  {
   "cell_type": "code",
   "execution_count": 3,
   "id": "5312d960",
   "metadata": {},
   "outputs": [],
   "source": [
    "model_hyperparams = {\n",
    "    'linear regression': {},\n",
    "    'polynomial regression': {'degree': 2},\n",
    "    'random forest': {'n_estimators': 800, 'random_state': 42, 'n_jobs': -1, 'max_features': 0.5,\n",
    "                     'max_samples': 0.8, 'max_depth': 12},\n",
    "    'XGBoost': {'n_estimators': 1000, 'max_depth': 4, 'learning_rate': 0.05, 'reg_lambda': 0,\n",
    "               'gamma': 0, 'subsample': 0.2, 'colsample_bytree': 1, 'random_state': 10, 'n_jobs': -1},\n",
    "    'Gaussian Process (sklearn)': {\n",
    "        'kernel': gp.kernels.ConstantKernel(1.0, (1e-3, 1e3)) * gp.kernels.RBF(1.0, (1e-3, 1e3)),\n",
    "        'optimizer': 'fmin_l_bfgs_b',\n",
    "        'n_restarts_optimizer': 100,\n",
    "        'alpha': 1e-10,\n",
    "        'normalize_y': True,\n",
    "        'random_state': 10\n",
    "    },\n",
    "    'Gaussian Process': {\n",
    "        'n_restarts': 100,\n",
    "        'kernel': 'Gaussian',\n",
    "        'trend': 'Const',\n",
    "        'opt': {'optimizer':'L-BFGS-B', 'jac': True}\n",
    "    }\n",
    "}"
   ]
  },
  {
   "cell_type": "code",
   "execution_count": 4,
   "id": "4c7f5211",
   "metadata": {},
   "outputs": [],
   "source": [
    "def model_fit(model_type, X_train, y_train, hyperparams):\n",
    "    \"\"\"This function is used for training ML models.\"\"\"\n",
    "    \n",
    "    # Construct pipeline\n",
    "    if model_type == 'linear regression': \n",
    "        model = Pipeline([\n",
    "            ('scaler', StandardScaler()),\n",
    "            ('regressor', LinearRegression())\n",
    "        ])\n",
    "        \n",
    "    elif model_type == 'polynomial regression':\n",
    "        model = Pipeline([\n",
    "            ('poly', PolynomialFeatures(**hyperparams[model_type])),\n",
    "            ('scaler', StandardScaler()),\n",
    "            ('regressor', LinearRegression())\n",
    "        ])\n",
    "   \n",
    "    elif model_type == 'Gaussian Process (sklearn)':\n",
    "        # sklearn GP\n",
    "        model = Pipeline([\n",
    "            ('scaler', StandardScaler()),\n",
    "            ('regressor', gp.GaussianProcessRegressor(**hyperparams[model_type]))\n",
    "        ])\n",
    "    \n",
    "    elif model_type == 'Gaussian Process':\n",
    "        # Custom GP\n",
    "        model = Pipeline([\n",
    "            ('scaler', MinMaxScaler()),\n",
    "            ('regressor', GPInterpolator(**hyperparams[model_type]))\n",
    "        ])\n",
    "    \n",
    "    elif model_type == 'random forest':\n",
    "        model = RandomForestRegressor(**hyperparams[model_type])\n",
    "    \n",
    "    elif model_type == 'XGBoost':\n",
    "        model = xgb.XGBRegressor(**hyperparams[model_type])\n",
    "    \n",
    "    else:\n",
    "        raise KeyError('Unrecognized model type!')\n",
    "    \n",
    "    # Fit the pipeline\n",
    "    model.fit(X_train, y_train)\n",
    "    \n",
    "    return model"
   ]
  },
  {
   "cell_type": "markdown",
   "id": "3ae190d6",
   "metadata": {},
   "source": [
    "Training ML surrogate model"
   ]
  },
  {
   "cell_type": "code",
   "execution_count": 5,
   "id": "952bca82",
   "metadata": {},
   "outputs": [],
   "source": [
    "# Setting conditions\n",
    "df_dict = ops_dict\n",
    "input_col = ['input: SF', 'input: FN', 'psi_ref']\n",
    "mode = 'combo-op'\n",
    "target = 'loss ratio'\n",
    "model_type = 'XGBoost'\n",
    "test_ratio = 0.2\n",
    "repeat_exp = 20\n",
    "\n",
    "# Step 1: Select dataset\n",
    "X, CIMAC_loss, CIMTD_loss = utilities.data_selector(psi_ref=total_psi_levels, mode=mode, df_dict=df_dict, \n",
    "                                                    input_col=input_col)\n",
    "\n",
    "# Step 2: Train/test data\n",
    "X_train, y_train, X_test, y_test, CIMAC_loss, CIMTD_loss = utilities.train_test_data_creator(X, CIMAC_loss, \n",
    "                                                                                   CIMTD_loss, target, seed=42, \n",
    "                                                                                   test_ratio=test_ratio,\n",
    "                                                                                   verbose=False)\n",
    "# Step 3: Build & evaluate model\n",
    "ML_model = model_fit(model_type, X_train, y_train, model_hyperparams)"
   ]
  },
  {
   "cell_type": "markdown",
   "id": "6c4f7094",
   "metadata": {},
   "source": [
    "#### 3. LangChain agent"
   ]
  },
  {
   "cell_type": "markdown",
   "id": "2971fa02",
   "metadata": {},
   "source": [
    "##### 3.1 Define custom tool"
   ]
  },
  {
   "cell_type": "code",
   "execution_count": 6,
   "id": "4f38c4f7",
   "metadata": {},
   "outputs": [],
   "source": [
    "from langchain.tools import tool\n",
    "\n",
    "@tool(\"motor_loss_prediction\")\n",
    "def motor_loss_predict(Torque: float, Supply_frequency: float, Flux_level: float) -> float:\n",
    "    \"\"\"Calculate the motor loss based on the given motor operating condition, which includes \n",
    "    torque, supply frequency, and flux level.\"\"\"\n",
    "    loss_ratio = ML_model.predict(np.array([Torque, Supply_frequency, Flux_level]).reshape(1, -1))[0]\n",
    "    \n",
    "    return loss_ratio"
   ]
  },
  {
   "cell_type": "code",
   "execution_count": null,
   "id": "0a42b277",
   "metadata": {},
   "outputs": [],
   "source": [
    "@tool(\"plot_figure\")\n",
    "def plot_figure(x: np.ndarray, y: np.ndarray) -> float:\n",
    "    \"\"\"Calculate the motor loss based on the given motor operating condition, which includes \n",
    "    torque, supply frequency, and flux level.\"\"\"\n",
    "    loss_ratio = ML_model.predict(np.array([Torque, Supply_frequency, Flux_level]).reshape(1, -1))[0]\n",
    "    \n",
    "    return fig"
   ]
  },
  {
   "cell_type": "code",
   "execution_count": null,
   "id": "044e1e63",
   "metadata": {},
   "outputs": [],
   "source": [
    "import os\n",
    "import openai\n",
    "from langchain.llms import AzureOpenAI\n",
    "from langchain.agents import load_tools, Tool\n",
    "from langchain.agents import initialize_agent\n",
    "from langchain.agents import AgentType\n",
    "\n",
    "# Set up OpenAI\n",
    "openai.api_key = os.getenv(\"OPENAI_API_KEY\")\n",
    "openai.api_type = \"azure\"\n",
    "openai.api_version = \"2023-03-15-preview\"\n",
    "openai.api_base = \"https://abb-chcrc.openai.azure.com/\"\n",
    "\n",
    "# Load the language model used to control the agent.\n",
    "llm = AzureOpenAI(\n",
    "        model_name=\"text-davinci-003\",\n",
    "        deployment_name='deployment-5af509f3323342ee919481751c6f8b7d')\n",
    "\n",
    "# Define agent\n",
    "agent = initialize_agent([motor_loss_predict], llm, agent=AgentType.STRUCTURED_CHAT_ZERO_SHOT_REACT_DESCRIPTION, \n",
    "                         verbose=True)\n",
    "\n",
    "# Run agent\n",
    "agent.run(\"\"\"Please identify all the supply frequencies whose associated loss value is lower than 1.1. \n",
    "Say supply frequency can vary from 10 to 70, at a step of 10.\n",
    "The torque value is kept to 1 and the flux level value is kept to 100. \n",
    "Please calculate of different parameter combinations individually.\n",
    "\"\"\")"
   ]
  },
  {
   "cell_type": "code",
   "execution_count": null,
   "id": "5398fee0",
   "metadata": {},
   "outputs": [],
   "source": [
    "ML_model.predict(X_test[:1])[0]"
   ]
  },
  {
   "cell_type": "code",
   "execution_count": null,
   "id": "eade5ec5",
   "metadata": {},
   "outputs": [],
   "source": [
    "X_train"
   ]
  },
  {
   "cell_type": "markdown",
   "id": "dd05afd1",
   "metadata": {},
   "source": [
    "## Repository"
   ]
  },
  {
   "cell_type": "code",
   "execution_count": null,
   "id": "75762fa6",
   "metadata": {},
   "outputs": [],
   "source": [
    "# Templates\n",
    "Q1 = \"\"\"I need you to calculate the motor loss given different operating conditions. \n",
    "Each operating condition is defined by a tuple (torque, supply frequency, flux level).\n",
    "Here are the operating conditions: (0.2, 10, 50), (0.2, 30, 50), (1, 30, 70).\"\"\"\n",
    "\n",
    "Q2 = \"\"\"I need you to calculate the motor loss given different operating conditions. \n",
    "Each operating condition is defined by a tuple (torque, supply frequency, flux level). Based\n",
    "on your calculated losses, please tell me under which operating condition the machine has\n",
    "the minimum loss.\n",
    "\n",
    "Here is the operating conditions: (0.2, 10, 50), (0.2, 30, 50), (1, 30, 70).\"\"\"\n",
    "\n",
    "Q3 = \"\"\"I need you to evaluate the motor loss under different operating conditions. \n",
    "The possible motor torque value is 0.2 and 0.4. The possible supply frequency value is \n",
    "20, and 50. And the flux level value can only be 100. Please calculate motor losses given \n",
    "all possible combinations of operating conditions, and tell me which operating condition\n",
    "has the minimum loss.\"\"\"\n",
    "\n",
    "Q4 = \"\"\"I want to know how the motor loss varies with supply frequency. Say supply frequency varies from \n",
    "10 to 75, at a step of 5. For different supply frequency values, the torque value is kept to 1, \n",
    "and the flux level value is kept to 100. Please calculate different parameter combination individually. \n",
    "\"\"\""
   ]
  },
  {
   "cell_type": "code",
   "execution_count": null,
   "id": "d7ef3de9",
   "metadata": {},
   "outputs": [],
   "source": [
    "from langchain.chat_models import AzureChatOpenAI\n",
    "from langchain.agents import load_tools, Tool\n",
    "from langchain.agents import initialize_agent\n",
    "from langchain.agents import AgentType\n",
    "# from langchain.callbacks.base import CallbackManager\n",
    "from langchain.callbacks.streaming_stdout import StreamingStdOutCallbackHandler\n",
    "\n",
    "\n",
    "# Load the language model used to control the agent.\n",
    "llm = AzureChatOpenAI(\n",
    "        openai_api_base=\"https://abb-chcrc.openai.azure.com/\",\n",
    "        openai_api_version=\"2023-03-15-preview\",\n",
    "        openai_api_key='b4f6a457f6914c2b85fb46dd4f9abfe4',\n",
    "        openai_api_type=\"azure\",\n",
    "        deployment_name=\"gpt-35-turbo-0301\", streaming=True,)\n",
    "#         callback_manager=CallbackManager([StreamingStdOutCallbackHandler()]))\n",
    "\n",
    "\n",
    "# Load defined tools (surrogate prediction)\n",
    "# tools = load_tools([\"motor_loss_prediction\"], llm=llm)\n",
    "\n",
    "# Finally, let's initialize an agent with the tools, the language model, and the type of agent we want to use.\n",
    "agent = initialize_agent([motor_loss_predict], llm, agent=AgentType.STRUCTURED_CHAT_ZERO_SHOT_REACT_DESCRIPTION, \n",
    "                         verbose=True)\n",
    "\n",
    "# Now let's test it out!\n",
    "agent.run(\"\"\"I need you to calculate the motor loss under the following operating condition: \n",
    "the motor torque is 0.2, the supply frequency is 10, and the flux level is 50.\"\"\")"
   ]
  },
  {
   "cell_type": "code",
   "execution_count": null,
   "id": "433a4cdd",
   "metadata": {},
   "outputs": [],
   "source": [
    "# Useful code\n",
    "from langchain.agents import ZeroShotAgent, Tool, AgentExecutor\n",
    "from langchain import OpenAI, SerpAPIWrapper, LLMChain\n",
    "\n",
    "search = SerpAPIWrapper()\n",
    "tools = [\n",
    "    Tool(\n",
    "        name = \"Search\",\n",
    "        func=search.run,\n",
    "        description=\"useful for when you need to answer questions about current events\"\n",
    "    )\n",
    "]\n",
    "\n",
    "prefix = \"\"\"Answer the following questions as best you can, but speaking as a pirate might speak. You have access to the following tools:\"\"\"\n",
    "suffix = \"\"\"Begin! Remember to speak as a pirate when giving your final answer. Use lots of \"Args\"\n",
    "\n",
    "Question: {input}\n",
    "{agent_scratchpad}\"\"\"\n",
    "\n",
    "prompt = ZeroShotAgent.create_prompt(\n",
    "    tools, \n",
    "    prefix=prefix, \n",
    "    suffix=suffix, \n",
    "    input_variables=[\"input\", \"agent_scratchpad\"]\n",
    ")\n",
    "\n",
    "llm_chain = LLMChain(llm=OpenAI(temperature=0), prompt=prompt)\n",
    "\n",
    "tool_names = [tool.name for tool in tools]\n",
    "agent = ZeroShotAgent(llm_chain=llm_chain, allowed_tools=tool_names)\n",
    "\n",
    "agent_executor = AgentExecutor.from_agent_and_tools(agent=agent, tools=tools, verbose=True)\n",
    "\n",
    "agent_executor.run(\"How many people live in canada as of 2023?\")"
   ]
  }
 ],
 "metadata": {
  "kernelspec": {
   "display_name": "Python 3 (ipykernel)",
   "language": "python",
   "name": "python3"
  },
  "language_info": {
   "codemirror_mode": {
    "name": "ipython",
    "version": 3
   },
   "file_extension": ".py",
   "mimetype": "text/x-python",
   "name": "python",
   "nbconvert_exporter": "python",
   "pygments_lexer": "ipython3",
   "version": "3.8.12"
  }
 },
 "nbformat": 4,
 "nbformat_minor": 5
}
